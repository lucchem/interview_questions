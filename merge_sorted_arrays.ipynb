{
 "cells": [
  {
   "cell_type": "code",
   "execution_count": 1,
   "metadata": {},
   "outputs": [],
   "source": [
    "import numpy as np"
   ]
  },
  {
   "cell_type": "markdown",
   "metadata": {},
   "source": [
    "# Merge two sorted arrays in a sorted one"
   ]
  },
  {
   "cell_type": "code",
   "execution_count": 2,
   "metadata": {},
   "outputs": [
    {
     "name": "stdout",
     "output_type": "stream",
     "text": [
      "[2, 5, 6, 7, 19, 20, 22, 24, 28, 32, 34, 37, 39, 40, 44, 45, 48, 49, 58, 60]\n",
      "[2, 5, 9, 18, 19, 32, 36, 38, 43, 45]\n"
     ]
    }
   ],
   "source": [
    "m = 20\n",
    "n = 10\n",
    "\n",
    "arr1 = list(np.random.choice(range(1,3*max(n,m)+1), size = m, replace = False))\n",
    "arr2 = list(np.random.choice(range(1,3*max(n,m)+1), size = n, replace = False))\n",
    "\n",
    "arr1.sort()\n",
    "arr2.sort()\n",
    "\n",
    "print(arr1)\n",
    "print(arr2)"
   ]
  },
  {
   "cell_type": "code",
   "execution_count": 3,
   "metadata": {},
   "outputs": [
    {
     "name": "stdout",
     "output_type": "stream",
     "text": [
      "True\n"
     ]
    }
   ],
   "source": [
    "merger = []\n",
    "\n",
    "i = 0\n",
    "j = 0\n",
    "while True:\n",
    "    \n",
    "    if arr1[i] == arr2[j]:\n",
    "        #print(i,j,arr2[j],'from both')\n",
    "        merger.append(arr2[j])\n",
    "        i += 1\n",
    "        j += 1\n",
    "    else:\n",
    "        if arr1[i] < arr2[j]:\n",
    "            #print(i,arr1[i],'from arr1')\n",
    "            merger.append(arr1[i])\n",
    "            i += 1\n",
    "        else:\n",
    "            #print(j,arr2[j],'from arr2')\n",
    "            merger.append(arr2[j])\n",
    "            j += 1\n",
    "\n",
    "    if i == m:\n",
    "        #print('finish: adding arr2[j:]',arr2[j:])\n",
    "        merger = merger + arr2[j:]\n",
    "        break\n",
    "        \n",
    "    if j == n:\n",
    "        #print('finish: adding arr1[i+1:]',arr1[i:])\n",
    "        merger = merger + arr1[i:]\n",
    "        break\n",
    "\n",
    "print(set(merger) == set(arr1+arr2))"
   ]
  }
 ],
 "metadata": {
  "kernelspec": {
   "display_name": "Python 3",
   "language": "python",
   "name": "python3"
  },
  "language_info": {
   "codemirror_mode": {
    "name": "ipython",
    "version": 3
   },
   "file_extension": ".py",
   "mimetype": "text/x-python",
   "name": "python",
   "nbconvert_exporter": "python",
   "pygments_lexer": "ipython3",
   "version": "3.7.4"
  }
 },
 "nbformat": 4,
 "nbformat_minor": 4
}
