{
 "cells": [
  {
   "cell_type": "code",
   "execution_count": 1,
   "metadata": {},
   "outputs": [],
   "source": [
    "import numpy as np"
   ]
  },
  {
   "cell_type": "code",
   "execution_count": 2,
   "metadata": {},
   "outputs": [],
   "source": [
    "def binary_search(M,N):\n",
    "    arr = M[0]\n",
    "    \n",
    "    a, b = 0, len(arr)-1\n",
    "    \n",
    "    while True:\n",
    "        mid = (a+b) // 2\n",
    "        \n",
    "        if a == mid and mid == b:\n",
    "            break\n",
    "        \n",
    "        if arr[mid] <= N:\n",
    "            a = mid+1\n",
    "        else:\n",
    "            b = mid\n",
    "            \n",
    "    Mm = np.array(M[0][:mid+1])\n",
    "    for i in M[1:]:\n",
    "        Mm = np.vstack( (Mm,i[:mid+1]) )\n",
    "        \n",
    "    return Mm"
   ]
  },
  {
   "cell_type": "code",
   "execution_count": 18,
   "metadata": {},
   "outputs": [],
   "source": [
    "M = np.array([ [10, 20, 30, 40, 50, 60, 70], [15, 25, 35, 45, 55, 65, 75], [20, 30, 40, 50, 60, 70, 80], [25, 35, 45, 55, 65, 75, 85 ] ])"
   ]
  },
  {
   "cell_type": "code",
   "execution_count": 11,
   "metadata": {},
   "outputs": [],
   "source": [
    "M = np.array([ [10, 20, 30, 40], [15, 25, 35, 45], [27, 29, 37, 48], [32, 33, 39, 50] ]);"
   ]
  },
  {
   "cell_type": "code",
   "execution_count": 20,
   "metadata": {},
   "outputs": [
    {
     "name": "stdout",
     "output_type": "stream",
     "text": [
      "look for 35 \n",
      "\n",
      "0. start from\n",
      "[[10 20 30 40 50 60 70]\n",
      " [15 25 35 45 55 65 75]\n",
      " [20 30 40 50 60 70 80]\n",
      " [25 35 45 55 65 75 85]]\n",
      "1. reduced to\n",
      "[[10 20 30 40]\n",
      " [15 25 35 45]\n",
      " [20 30 40 50]\n",
      " [25 35 45 55]]\n",
      "2. reduced to\n",
      "[[10 20 30 40]\n",
      " [15 25 35 45]\n",
      " [20 30 40 50]\n",
      " [25 35 45 55]]\n",
      "3. start from (0, 3)\n",
      "go left\n",
      "3. start from (0, 2)\n",
      "go down\n",
      "3. start from (1, 2)\n",
      "35 found at (1, 2)\n"
     ]
    }
   ],
   "source": [
    "N = 35\n",
    "\n",
    "print('look for',N,'\\n\\n0. start from')\n",
    "print(M)\n",
    "\n",
    "# step 1 exclude right half matrix\n",
    "Mm = binary_search(M,N)\n",
    "print('1. reduced to')\n",
    "print(Mm)\n",
    "\n",
    "# step 2 exclude lower half matrix\n",
    "Mmm =  binary_search(Mm.T,N).T\n",
    "print('2. reduced to')\n",
    "print(Mmm)\n",
    "\n",
    "\n",
    "# step 3 step down the matrix\n",
    "i = 0\n",
    "j = len(Mmm[0])-1\n",
    "while True:\n",
    "    print('3. start from',(i,j))\n",
    "    \n",
    "    if Mmm[i][j] == N:\n",
    "        print(N,'found at',(i,j))\n",
    "        break\n",
    "    else:\n",
    "        if i == len(Mmm)-1 or (j == 0 and Mmm[i+1][j] > N):\n",
    "            print('not found')\n",
    "            break\n",
    "            \n",
    "        if j == 0 or (j > 0 and Mmm[i+1][j] <= N):\n",
    "            print('go down')\n",
    "            i += 1\n",
    "        else:\n",
    "            print('go left')\n",
    "            j -= 1"
   ]
  }
 ],
 "metadata": {
  "kernelspec": {
   "display_name": "Python 3",
   "language": "python",
   "name": "python3"
  },
  "language_info": {
   "codemirror_mode": {
    "name": "ipython",
    "version": 3
   },
   "file_extension": ".py",
   "mimetype": "text/x-python",
   "name": "python",
   "nbconvert_exporter": "python",
   "pygments_lexer": "ipython3",
   "version": "3.7.4"
  }
 },
 "nbformat": 4,
 "nbformat_minor": 4
}
