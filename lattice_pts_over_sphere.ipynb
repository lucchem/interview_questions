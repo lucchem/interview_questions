{
 "cells": [
  {
   "cell_type": "markdown",
   "metadata": {},
   "source": [
    "# Count the total number of lattice points over a sphere\n",
    "\n",
    "A sphere has radius $r\\in\\mathcal N^+$ and is centered in zero. How many points over its surface have integer coordinates?\n",
    "\n",
    "if $r=0$, just one: $(0,0)$. \n",
    "\n",
    "Indeed at least 4 if $r>0$, that are $(\\pm r,0)$ and $(0,\\pm r)$.\n",
    "\n",
    "Then, remember that every $(x,y)$ solves:\n",
    "$$ x^2+y^2=r^2\\Rightarrow x^2 = r^2-y^2, \\quad x\\in\\{1,..,r-1\\}$$"
   ]
  },
  {
   "cell_type": "code",
   "execution_count": 28,
   "metadata": {},
   "outputs": [
    {
     "name": "stdout",
     "output_type": "stream",
     "text": [
      "\n",
      "tot lattice points = 12\n"
     ]
    }
   ],
   "source": [
    "r = 5\n",
    "\n",
    "r = max(r,0)\n",
    "if r == 0:\n",
    "    tot_lattice_pts = 2\n",
    "else:\n",
    "    tot_lattice_pts = 4\n",
    "    for x in range(1,r):\n",
    "        y = int( (r**2-x**2)**0.5 )\n",
    "        if x**2+y**2 == r**2:\n",
    "            tot_lattice_pts += 4\n",
    "\n",
    "print('\\ntot lattice points =',tot_lattice_pts)"
   ]
  }
 ],
 "metadata": {
  "kernelspec": {
   "display_name": "Python 3",
   "language": "python",
   "name": "python3"
  },
  "language_info": {
   "codemirror_mode": {
    "name": "ipython",
    "version": 3
   },
   "file_extension": ".py",
   "mimetype": "text/x-python",
   "name": "python",
   "nbconvert_exporter": "python",
   "pygments_lexer": "ipython3",
   "version": "3.7.4"
  }
 },
 "nbformat": 4,
 "nbformat_minor": 4
}
