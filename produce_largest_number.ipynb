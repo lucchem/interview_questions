{
 "cells": [
  {
   "cell_type": "code",
   "execution_count": 1,
   "metadata": {},
   "outputs": [],
   "source": [
    "import numpy as np"
   ]
  },
  {
   "cell_type": "code",
   "execution_count": 2,
   "metadata": {},
   "outputs": [],
   "source": [
    "def compare(a,b):\n",
    "    if int(str(a)+str(b)) > int(str(b)+str(a)):\n",
    "        return a\n",
    "    else:\n",
    "        return b\n",
    "\n",
    "def weird_sort(a):\n",
    "    b = []\n",
    "    while len(a) != 1:\n",
    "        #print(len(a))\n",
    "        max = 0\n",
    "        for i in a:\n",
    "            max = compare(max,i)\n",
    "        a.remove(max)\n",
    "        b.append(max)\n",
    "            \n",
    "    return b+a"
   ]
  },
  {
   "cell_type": "code",
   "execution_count": 3,
   "metadata": {},
   "outputs": [
    {
     "name": "stdout",
     "output_type": "stream",
     "text": [
      "[115, 183, 70, 42, 110, 52, 114, 75, 190, 23, 27, 199, 78, 88, 152, 41, 18, 13, 43, 181]\n",
      "887875705243424127231991901831818115213115114110\n"
     ]
    }
   ],
   "source": [
    "a = [54, 546, 548, 60]\n",
    "a = list(np.random.random_integers(1,200,20))\n",
    "print(a)\n",
    "\n",
    "print(\"\".join([str(i) for i in weird_sort(a) ]))"
   ]
  }
 ],
 "metadata": {
  "kernelspec": {
   "display_name": "Python 3",
   "language": "python",
   "name": "python3"
  },
  "language_info": {
   "codemirror_mode": {
    "name": "ipython",
    "version": 3
   },
   "file_extension": ".py",
   "mimetype": "text/x-python",
   "name": "python",
   "nbconvert_exporter": "python",
   "pygments_lexer": "ipython3",
   "version": "3.7.4"
  }
 },
 "nbformat": 4,
 "nbformat_minor": 4
}
