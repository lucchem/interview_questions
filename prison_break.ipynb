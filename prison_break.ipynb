{
 "cells": [
  {
   "cell_type": "markdown",
   "metadata": {},
   "source": [
    "# Prison break\n",
    "\n",
    "Interview question.\n",
    "\n",
    "A prisoner has to escape a prison by going thru a window.\n",
    "The window is made by $1\\leq m,n\\leq 10^5$ vertical and horizontal bars, dividing the window in many squares with unit area (there is always at least one bar in both directions).\n",
    "Some bars (numbered between 1 and $m$ or $n$) can be removed among the vertical and horizontal ones, and their position is stored in two arrays.\n",
    "Determine the size of the largest hole after removing the bars.\n",
    "\n",
    "Input: $m$ and $n$ (integers), $v$ and $h$ (arrays of integers).\n",
    "\n",
    "Output: max area."
   ]
  },
  {
   "cell_type": "code",
   "execution_count": 15,
   "metadata": {},
   "outputs": [
    {
     "name": "stdout",
     "output_type": "stream",
     "text": [
      "4\n"
     ]
    }
   ],
   "source": [
    "m = 2\n",
    "n = 1\n",
    "\n",
    "v = [ 4,1 ]\n",
    "h = [ 2 ]\n",
    "\n",
    "assert m > 0 and n > 0\n",
    "assert all( i >  0 for i in v ) and all( i >  0 for i in h )\n",
    "assert all( i <= m for i in v ) and all( i <= n for i in h )\n",
    "\n",
    "def max_gap(a):\n",
    "    \n",
    "    if len(a) == 0:\n",
    "        return 1\n",
    "    \n",
    "    if len(a) == 1:\n",
    "        return 2\n",
    "    \n",
    "    a.sort()\n",
    "    max_gap = 2\n",
    "    max_seen = 0\n",
    "    \n",
    "    for i in range(len(a)-1):\n",
    "        \n",
    "        if a[i] == a[i+1]-1:\n",
    "            max_gap += 1\n",
    "        \n",
    "        else:\n",
    "            max_gap == 2\n",
    "\n",
    "        max_seen = max(max_seen,max_gap)\n",
    "\n",
    "    return max_seen\n",
    "\n",
    "print(max_gap(v)*max_gap(h))"
   ]
  }
 ],
 "metadata": {
  "kernelspec": {
   "display_name": "Python 3",
   "language": "python",
   "name": "python3"
  },
  "language_info": {
   "codemirror_mode": {
    "name": "ipython",
    "version": 3
   },
   "file_extension": ".py",
   "mimetype": "text/x-python",
   "name": "python",
   "nbconvert_exporter": "python",
   "pygments_lexer": "ipython3",
   "version": "3.8.5"
  }
 },
 "nbformat": 4,
 "nbformat_minor": 4
}
