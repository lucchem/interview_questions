{
 "cells": [
  {
   "cell_type": "code",
   "execution_count": 1,
   "metadata": {},
   "outputs": [],
   "source": [
    "import numpy as np"
   ]
  },
  {
   "cell_type": "markdown",
   "metadata": {},
   "source": [
    "# Find second largest element of an array of distinct integers\n",
    "\n",
    "Interview question.\n",
    "\n",
    "To avoid the $O(n\\log n)$ of any common sorting algorithm, perform binary comparisons storing the losing elements in a map/hashtable (Python dictionary), and after determining the maximum element, look the maximum element defeated by the maximum."
   ]
  },
  {
   "cell_type": "code",
   "execution_count": 2,
   "metadata": {},
   "outputs": [],
   "source": [
    "def find_max_defeated(arr,just_max = False):\n",
    "    defeated = {}\n",
    "\n",
    "    while len(arr) > 1:\n",
    "        winners = []\n",
    "        hanging = None\n",
    "        \n",
    "        if len(arr) % 2 != 0:\n",
    "            hanging = arr[-1]\n",
    "            arr = arr[:-1]\n",
    "        \n",
    "        for i in range(len(arr) // 2):\n",
    "            (win, los) = (arr[2*i], arr[2*i+1]) if arr[2*i] > arr[2*i+1] else (arr[2*i+1], arr[2*i])\n",
    "            winners.append(win)\n",
    "            \n",
    "            if just_max: continue\n",
    "            \n",
    "            try:\n",
    "                defeated[win].append(los)\n",
    "            except KeyError:\n",
    "                defeated[win] = [ los ]\n",
    "        \n",
    "        arr = winners\n",
    "        \n",
    "        if hanging != None:\n",
    "            arr += [ hanging ]\n",
    "\n",
    "    if just_max:\n",
    "        defeat = None\n",
    "    else:\n",
    "        defeat = defeated[arr[0]]\n",
    "\n",
    "    return arr[0], defeat"
   ]
  },
  {
   "cell_type": "code",
   "execution_count": 3,
   "metadata": {},
   "outputs": [
    {
     "name": "stdout",
     "output_type": "stream",
     "text": [
      "precheck: \n",
      "1197 1194\n",
      "max is 1197 second max is in [172, 893, 631, 1132, 1180, 1192, 1191, 1176, 1194, 1189]\n",
      "second max is 1194\n"
     ]
    }
   ],
   "source": [
    "NMAX = 1200\n",
    "NSMP = 600\n",
    "array = list(np.random.choice(range(NMAX), NSMP, replace=False))\n",
    "\n",
    "maxelem = max(array)\n",
    "max_idx = array.index(maxelem)\n",
    "scd_max = max((array[:max_idx]+array[max_idx+1:]))\n",
    "\n",
    "print('precheck: ')\n",
    "print(maxelem,scd_max)\n",
    "\n",
    "maxelem, defeated = find_max_defeated(array)\n",
    "print('max is',maxelem,'second max is in',defeated)\n",
    "\n",
    "maxelem, _ = find_max_defeated(defeated,just_max = True)\n",
    "\n",
    "print('second max is',maxelem)"
   ]
  }
 ],
 "metadata": {
  "kernelspec": {
   "display_name": "Python 3",
   "language": "python",
   "name": "python3"
  },
  "language_info": {
   "codemirror_mode": {
    "name": "ipython",
    "version": 3
   },
   "file_extension": ".py",
   "mimetype": "text/x-python",
   "name": "python",
   "nbconvert_exporter": "python",
   "pygments_lexer": "ipython3",
   "version": "3.7.4"
  }
 },
 "nbformat": 4,
 "nbformat_minor": 4
}
