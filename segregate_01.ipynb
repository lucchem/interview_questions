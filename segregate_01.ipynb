{
 "cells": [
  {
   "cell_type": "code",
   "execution_count": 1,
   "metadata": {},
   "outputs": [],
   "source": [
    "import numpy as np"
   ]
  },
  {
   "cell_type": "code",
   "execution_count": 2,
   "metadata": {},
   "outputs": [],
   "source": [
    "def segregator(array):\n",
    "    \n",
    "    if array.count(0) == 0 or array.count(1) == 0:\n",
    "        return array\n",
    "\n",
    "    last_zero = None\n",
    "\n",
    "    for last_zero in range(1,len(array)+1):\n",
    "        if array[-last_zero] == 0:\n",
    "                break\n",
    "\n",
    "    i = 0\n",
    "    while i != len(array)-last_zero:\n",
    "        if array[i] == 1:\n",
    "            array[i], array[-last_zero] = 0,1\n",
    "            for last_zero in range(last_zero+1,len(array)-i+1):\n",
    "                if last_zero+i == len(array):\n",
    "                    return array\n",
    "                if array[-last_zero] == 0:\n",
    "                    break\n",
    "        i += 1\n",
    "    return array"
   ]
  },
  {
   "cell_type": "code",
   "execution_count": 3,
   "metadata": {},
   "outputs": [
    {
     "name": "stdout",
     "output_type": "stream",
     "text": [
      "[1, 0, 1, 1]\n",
      "[0, 1, 1, 1]\n"
     ]
    }
   ],
   "source": [
    "array = list(np.random.random_integers(0,1,20))\n",
    "array = [1,0,1,1]\n",
    "\n",
    "print(array)\n",
    "\n",
    "arr = segregator(array)\n",
    "\n",
    "print(arr)"
   ]
  }
 ],
 "metadata": {
  "kernelspec": {
   "display_name": "Python 3",
   "language": "python",
   "name": "python3"
  },
  "language_info": {
   "codemirror_mode": {
    "name": "ipython",
    "version": 3
   },
   "file_extension": ".py",
   "mimetype": "text/x-python",
   "name": "python",
   "nbconvert_exporter": "python",
   "pygments_lexer": "ipython3",
   "version": "3.7.4"
  }
 },
 "nbformat": 4,
 "nbformat_minor": 4
}
