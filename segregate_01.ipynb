{
 "cells": [
  {
   "cell_type": "code",
   "execution_count": 1,
   "metadata": {},
   "outputs": [],
   "source": [
    "import numpy as np"
   ]
  },
  {
   "cell_type": "code",
   "execution_count": 2,
   "metadata": {},
   "outputs": [],
   "source": [
    "def segregator(array):\n",
    "    \n",
    "    if array.count(0) == 0 or array.count(1) == 0:\n",
    "        return array\n",
    "\n",
    "    last_zero = None\n",
    "\n",
    "    for last_zero in range(1,len(array)+1):\n",
    "        if array[-last_zero] == 0:\n",
    "                break\n",
    "\n",
    "    i = 0\n",
    "    while i != len(array)-last_zero:\n",
    "        if array[i] == 1:\n",
    "            array[i], array[-last_zero] = 0,1\n",
    "            for last_zero in range(last_zero+1,len(array)-i+1):\n",
    "                if last_zero+i == len(array):\n",
    "                    return array\n",
    "                if array[-last_zero] == 0:\n",
    "                    break\n",
    "        i += 1\n",
    "    return array"
   ]
  },
  {
   "cell_type": "code",
   "execution_count": 54,
   "metadata": {},
   "outputs": [],
   "source": [
    "def segregator(array):\n",
    "    first_one, last_zero = 0, len(array)-1\n",
    "    while last_zero > first_one:\n",
    "        if array[first_one] == 1 and array[last_zero] == 0:\n",
    "            array[last_zero], array[first_one] = 1, 0\n",
    "            first_one += 1\n",
    "            last_zero -= 1\n",
    "        if array[first_one] == 0:\n",
    "            first_one += 1\n",
    "        if array[last_zero] == 1:\n",
    "            last_zero -= 1\n",
    "    return array"
   ]
  },
  {
   "cell_type": "code",
   "execution_count": 55,
   "metadata": {},
   "outputs": [
    {
     "name": "stdout",
     "output_type": "stream",
     "text": [
      "[1, 0, 0, 1, 1, 1, 1, 0, 1, 1, 1, 1, 1, 1, 0, 1, 1, 1, 0, 1, 1]\n",
      "[0, 0, 0, 0, 0, 1, 1, 1, 1, 1, 1, 1, 1, 1, 1, 1, 1, 1, 1, 1, 1]\n"
     ]
    }
   ],
   "source": [
    "array = list(np.random.randint(0,2,21))\n",
    "#array = [1,0,1,1]\n",
    "#array = [0, 0, 1, 1, 0, 0, 0, 1, 0, 0, 1, 0, 0, 1, 1, 0, 1, 0, 0, 0]\n",
    "\n",
    "print(array)\n",
    "\n",
    "arr = segregator(array)\n",
    "\n",
    "print(arr)"
   ]
  },
  {
   "cell_type": "code",
   "execution_count": null,
   "metadata": {},
   "outputs": [],
   "source": []
  }
 ],
 "metadata": {
  "kernelspec": {
   "display_name": "Python 3",
   "language": "python",
   "name": "python3"
  },
  "language_info": {
   "codemirror_mode": {
    "name": "ipython",
    "version": 3
   },
   "file_extension": ".py",
   "mimetype": "text/x-python",
   "name": "python",
   "nbconvert_exporter": "python",
   "pygments_lexer": "ipython3",
   "version": "3.8.5"
  }
 },
 "nbformat": 4,
 "nbformat_minor": 4
}
