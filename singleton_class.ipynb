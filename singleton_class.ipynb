{
 "cells": [
  {
   "cell_type": "code",
   "execution_count": 36,
   "id": "682198d6",
   "metadata": {},
   "outputs": [],
   "source": [
    "from datetime import datetime"
   ]
  },
  {
   "cell_type": "markdown",
   "id": "bf11bd9a",
   "metadata": {},
   "source": [
    "# Singleton class\n",
    "\n",
    "This class can be instantiated as many times as you want, but is a singleton, meaning that re-instantiating the class returns the first object created. It is alike logger objects, that usually are just one object across multiple modules.\n",
    "\n",
    "In Python you use the ``__new__`` special method, executed before ``__init__``. The ``Singleton`` class has a class attribute (``instance``) that stores the first object of class ``Singleton`` ever created. As soon as the constructor is invoked, ``__new__`` is executed. If ``Singleton.instance`` is an object of class ``Singleton``, just print its attributes set during ``__init__``, otherwise create an object and store it."
   ]
  },
  {
   "cell_type": "code",
   "execution_count": 77,
   "id": "023613ab",
   "metadata": {},
   "outputs": [],
   "source": [
    "class Singleton:\n",
    "    instance = None\n",
    "    data = None\n",
    "    \n",
    "    def __new__(cls, *args):\n",
    "        if isinstance(cls.instance, Singleton):\n",
    "            print(\"already instantiated\", cls.instance.data, cls.instance.datetime)\n",
    "        else:\n",
    "            cls.instance = super().__new__(cls)\n",
    "            print(\"make new\")\n",
    "        return cls.instance\n",
    "    \n",
    "    def __init__(self, data):\n",
    "        print(\"now executing init\")\n",
    "        if not self.data:\n",
    "            self.datetime = datetime.utcnow()\n",
    "            self.data = data\n",
    "            print(\"set data\", self.data, self.datetime)\n",
    "        else:\n",
    "            print(\"data already set\", self.data)"
   ]
  },
  {
   "cell_type": "code",
   "execution_count": 78,
   "id": "5158ad60",
   "metadata": {},
   "outputs": [
    {
     "name": "stdout",
     "output_type": "stream",
     "text": [
      "make new\n",
      "now executing init\n",
      "set data 100 2023-03-18 15:27:09.540272\n"
     ]
    }
   ],
   "source": [
    "a = Singleton(100)"
   ]
  },
  {
   "cell_type": "code",
   "execution_count": 79,
   "id": "c6236e7c",
   "metadata": {},
   "outputs": [
    {
     "name": "stdout",
     "output_type": "stream",
     "text": [
      "already instantiated 100 2023-03-18 15:27:09.540272\n",
      "now executing init\n",
      "data already set 100\n"
     ]
    }
   ],
   "source": [
    "b = Singleton(200)"
   ]
  },
  {
   "cell_type": "code",
   "execution_count": 80,
   "id": "d672b2f6",
   "metadata": {},
   "outputs": [
    {
     "data": {
      "text/plain": [
       "True"
      ]
     },
     "execution_count": 80,
     "metadata": {},
     "output_type": "execute_result"
    }
   ],
   "source": [
    "a is b"
   ]
  }
 ],
 "metadata": {
  "kernelspec": {
   "display_name": "Python 3 (ipykernel)",
   "language": "python",
   "name": "python3"
  },
  "language_info": {
   "codemirror_mode": {
    "name": "ipython",
    "version": 3
   },
   "file_extension": ".py",
   "mimetype": "text/x-python",
   "name": "python",
   "nbconvert_exporter": "python",
   "pygments_lexer": "ipython3",
   "version": "3.9.7"
  },
  "toc": {
   "base_numbering": 1,
   "nav_menu": {},
   "number_sections": true,
   "sideBar": true,
   "skip_h1_title": false,
   "title_cell": "Table of Contents",
   "title_sidebar": "Contents",
   "toc_cell": false,
   "toc_position": {},
   "toc_section_display": true,
   "toc_window_display": false
  }
 },
 "nbformat": 4,
 "nbformat_minor": 5
}
